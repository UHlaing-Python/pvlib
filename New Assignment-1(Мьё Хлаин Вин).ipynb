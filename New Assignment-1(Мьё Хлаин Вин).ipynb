{
 "cells": [
  {
   "cell_type": "code",
   "execution_count": 1,
   "metadata": {},
   "outputs": [],
   "source": [
    "# Импорт библиотеки PVLIB\n",
    "import pvlib\n",
    "# Импорт библиотеки Pandas\n",
    "import pandas as pd\n",
    "# Импорт библиотеки datetime\n",
    "import datetime\n",
    "# Импорт библиотеки matplotlib\n",
    "import matplotlib.pyplot as plt\n",
    "%matplotlib inline"
   ]
  },
  {
   "cell_type": "code",
   "execution_count": 2,
   "metadata": {},
   "outputs": [],
   "source": [
    "# Импорт класса Location, позволяющего описывать месторасположение СЭС\n",
    "from pvlib.location import Location"
   ]
  },
  {
   "cell_type": "code",
   "execution_count": 3,
   "metadata": {},
   "outputs": [],
   "source": [
    "# Создание объекта \"точка А\" с заданными координатами, часовым поясом, высотой над уровнем моря, наименованием\n",
    "A = Location(55.4, 37.4, tz='Europe/Moscow', altitude=156, name='Moscow')"
   ]
  },
  {
   "cell_type": "code",
   "execution_count": 4,
   "metadata": {},
   "outputs": [
    {
     "name": "stdout",
     "output_type": "stream",
     "text": [
      "Location: \n",
      "  name: Moscow\n",
      "  latitude: 55.4\n",
      "  longitude: 37.4\n",
      "  altitude: 156\n",
      "  tz: Europe/Moscow\n"
     ]
    }
   ],
   "source": [
    "print(A)"
   ]
  },
  {
   "cell_type": "code",
   "execution_count": 5,
   "metadata": {},
   "outputs": [
    {
     "data": {
      "text/plain": [
       "DatetimeIndex(['2021-03-23 00:00:00', '2021-03-23 01:00:00',\n",
       "               '2021-03-23 02:00:00', '2021-03-23 03:00:00',\n",
       "               '2021-03-23 04:00:00', '2021-03-23 05:00:00',\n",
       "               '2021-03-23 06:00:00', '2021-03-23 07:00:00',\n",
       "               '2021-03-23 08:00:00', '2021-03-23 09:00:00',\n",
       "               '2021-03-23 10:00:00', '2021-03-23 11:00:00',\n",
       "               '2021-03-23 12:00:00', '2021-03-23 13:00:00',\n",
       "               '2021-03-23 14:00:00', '2021-03-23 15:00:00',\n",
       "               '2021-03-23 16:00:00', '2021-03-23 17:00:00',\n",
       "               '2021-03-23 18:00:00', '2021-03-23 19:00:00',\n",
       "               '2021-03-23 20:00:00', '2021-03-23 21:00:00',\n",
       "               '2021-03-23 22:00:00', '2021-03-23 23:00:00'],\n",
       "              dtype='datetime64[ns]', freq='H')"
      ]
     },
     "execution_count": 5,
     "metadata": {},
     "output_type": "execute_result"
    }
   ],
   "source": [
    "# Задание диапазона дат\n",
    "times = pd.date_range(start=datetime.datetime(2021,3,23), end=datetime.datetime(2021,3,23,23), freq='1H')\n",
    "times"
   ]
  },
  {
   "cell_type": "code",
   "execution_count": 6,
   "metadata": {},
   "outputs": [
    {
     "data": {
      "text/plain": [
       "DatetimeIndex(['2021-03-23 00:00:00+03:00', '2021-03-23 01:00:00+03:00',\n",
       "               '2021-03-23 02:00:00+03:00', '2021-03-23 03:00:00+03:00',\n",
       "               '2021-03-23 04:00:00+03:00', '2021-03-23 05:00:00+03:00',\n",
       "               '2021-03-23 06:00:00+03:00', '2021-03-23 07:00:00+03:00',\n",
       "               '2021-03-23 08:00:00+03:00', '2021-03-23 09:00:00+03:00',\n",
       "               '2021-03-23 10:00:00+03:00', '2021-03-23 11:00:00+03:00',\n",
       "               '2021-03-23 12:00:00+03:00', '2021-03-23 13:00:00+03:00',\n",
       "               '2021-03-23 14:00:00+03:00', '2021-03-23 15:00:00+03:00',\n",
       "               '2021-03-23 16:00:00+03:00', '2021-03-23 17:00:00+03:00',\n",
       "               '2021-03-23 18:00:00+03:00', '2021-03-23 19:00:00+03:00',\n",
       "               '2021-03-23 20:00:00+03:00', '2021-03-23 21:00:00+03:00',\n",
       "               '2021-03-23 22:00:00+03:00', '2021-03-23 23:00:00+03:00'],\n",
       "              dtype='datetime64[ns, Europe/Moscow]', freq=None)"
      ]
     },
     "execution_count": 6,
     "metadata": {},
     "output_type": "execute_result"
    }
   ],
   "source": [
    "# Преобразование заданного диапазона дат к местному времени\n",
    "times_loc = times.tz_localize(A.pytz)\n",
    "times_loc"
   ]
  },
  {
   "cell_type": "code",
   "execution_count": 7,
   "metadata": {},
   "outputs": [
    {
     "data": {
      "text/html": [
       "<div>\n",
       "<style scoped>\n",
       "    .dataframe tbody tr th:only-of-type {\n",
       "        vertical-align: middle;\n",
       "    }\n",
       "\n",
       "    .dataframe tbody tr th {\n",
       "        vertical-align: top;\n",
       "    }\n",
       "\n",
       "    .dataframe thead th {\n",
       "        text-align: right;\n",
       "    }\n",
       "</style>\n",
       "<table border=\"1\" class=\"dataframe\">\n",
       "  <thead>\n",
       "    <tr style=\"text-align: right;\">\n",
       "      <th></th>\n",
       "      <th>apparent_zenith</th>\n",
       "      <th>zenith</th>\n",
       "      <th>apparent_elevation</th>\n",
       "      <th>elevation</th>\n",
       "      <th>azimuth</th>\n",
       "      <th>equation_of_time</th>\n",
       "    </tr>\n",
       "  </thead>\n",
       "  <tbody>\n",
       "    <tr>\n",
       "      <th>2021-03-23 00:00:00+03:00</th>\n",
       "      <td>123.115824</td>\n",
       "      <td>123.115824</td>\n",
       "      <td>-33.115824</td>\n",
       "      <td>-33.115824</td>\n",
       "      <td>348.907080</td>\n",
       "      <td>-6.697283</td>\n",
       "    </tr>\n",
       "    <tr>\n",
       "      <th>2021-03-23 01:00:00+03:00</th>\n",
       "      <td>123.413849</td>\n",
       "      <td>123.413849</td>\n",
       "      <td>-33.413849</td>\n",
       "      <td>-33.413849</td>\n",
       "      <td>6.866001</td>\n",
       "      <td>-6.684763</td>\n",
       "    </tr>\n",
       "    <tr>\n",
       "      <th>2021-03-23 02:00:00+03:00</th>\n",
       "      <td>121.099043</td>\n",
       "      <td>121.099043</td>\n",
       "      <td>-31.099043</td>\n",
       "      <td>-31.099043</td>\n",
       "      <td>24.413855</td>\n",
       "      <td>-6.672240</td>\n",
       "    </tr>\n",
       "    <tr>\n",
       "      <th>2021-03-23 03:00:00+03:00</th>\n",
       "      <td>116.497320</td>\n",
       "      <td>116.497320</td>\n",
       "      <td>-26.497320</td>\n",
       "      <td>-26.497320</td>\n",
       "      <td>40.727253</td>\n",
       "      <td>-6.659715</td>\n",
       "    </tr>\n",
       "    <tr>\n",
       "      <th>2021-03-23 04:00:00+03:00</th>\n",
       "      <td>110.143592</td>\n",
       "      <td>110.143592</td>\n",
       "      <td>-20.143592</td>\n",
       "      <td>-20.143592</td>\n",
       "      <td>55.542806</td>\n",
       "      <td>-6.647187</td>\n",
       "    </tr>\n",
       "    <tr>\n",
       "      <th>2021-03-23 05:00:00+03:00</th>\n",
       "      <td>102.597231</td>\n",
       "      <td>102.597231</td>\n",
       "      <td>-12.597231</td>\n",
       "      <td>-12.597231</td>\n",
       "      <td>69.069415</td>\n",
       "      <td>-6.634657</td>\n",
       "    </tr>\n",
       "    <tr>\n",
       "      <th>2021-03-23 06:00:00+03:00</th>\n",
       "      <td>94.353778</td>\n",
       "      <td>94.353778</td>\n",
       "      <td>-4.353778</td>\n",
       "      <td>-4.353778</td>\n",
       "      <td>81.752338</td>\n",
       "      <td>-6.622124</td>\n",
       "    </tr>\n",
       "    <tr>\n",
       "      <th>2021-03-23 07:00:00+03:00</th>\n",
       "      <td>85.659161</td>\n",
       "      <td>85.842808</td>\n",
       "      <td>4.340839</td>\n",
       "      <td>4.157192</td>\n",
       "      <td>94.115934</td>\n",
       "      <td>-6.609589</td>\n",
       "    </tr>\n",
       "    <tr>\n",
       "      <th>2021-03-23 08:00:00+03:00</th>\n",
       "      <td>77.392962</td>\n",
       "      <td>77.465632</td>\n",
       "      <td>12.607038</td>\n",
       "      <td>12.534368</td>\n",
       "      <td>106.704948</td>\n",
       "      <td>-6.597052</td>\n",
       "    </tr>\n",
       "    <tr>\n",
       "      <th>2021-03-23 09:00:00+03:00</th>\n",
       "      <td>69.599831</td>\n",
       "      <td>69.644507</td>\n",
       "      <td>20.400169</td>\n",
       "      <td>20.355493</td>\n",
       "      <td>120.066613</td>\n",
       "      <td>-6.584512</td>\n",
       "    </tr>\n",
       "    <tr>\n",
       "      <th>2021-03-23 10:00:00+03:00</th>\n",
       "      <td>62.835148</td>\n",
       "      <td>62.867747</td>\n",
       "      <td>27.164852</td>\n",
       "      <td>27.132253</td>\n",
       "      <td>134.706560</td>\n",
       "      <td>-6.571969</td>\n",
       "    </tr>\n",
       "    <tr>\n",
       "      <th>2021-03-23 11:00:00+03:00</th>\n",
       "      <td>57.679055</td>\n",
       "      <td>57.705566</td>\n",
       "      <td>32.320945</td>\n",
       "      <td>32.294434</td>\n",
       "      <td>150.947285</td>\n",
       "      <td>-6.559425</td>\n",
       "    </tr>\n",
       "    <tr>\n",
       "      <th>2021-03-23 12:00:00+03:00</th>\n",
       "      <td>54.722462</td>\n",
       "      <td>54.746196</td>\n",
       "      <td>35.277538</td>\n",
       "      <td>35.253804</td>\n",
       "      <td>168.665071</td>\n",
       "      <td>-6.546878</td>\n",
       "    </tr>\n",
       "    <tr>\n",
       "      <th>2021-03-23 13:00:00+03:00</th>\n",
       "      <td>54.390655</td>\n",
       "      <td>54.414102</td>\n",
       "      <td>35.609345</td>\n",
       "      <td>35.585898</td>\n",
       "      <td>187.094417</td>\n",
       "      <td>-6.534329</td>\n",
       "    </tr>\n",
       "    <tr>\n",
       "      <th>2021-03-23 14:00:00+03:00</th>\n",
       "      <td>56.735266</td>\n",
       "      <td>56.760845</td>\n",
       "      <td>33.264734</td>\n",
       "      <td>33.239155</td>\n",
       "      <td>205.079588</td>\n",
       "      <td>-6.521777</td>\n",
       "    </tr>\n",
       "    <tr>\n",
       "      <th>2021-03-23 15:00:00+03:00</th>\n",
       "      <td>61.404241</td>\n",
       "      <td>61.434956</td>\n",
       "      <td>28.595759</td>\n",
       "      <td>28.565044</td>\n",
       "      <td>221.715985</td>\n",
       "      <td>-6.509224</td>\n",
       "    </tr>\n",
       "    <tr>\n",
       "      <th>2021-03-23 16:00:00+03:00</th>\n",
       "      <td>67.825114</td>\n",
       "      <td>67.865975</td>\n",
       "      <td>22.174886</td>\n",
       "      <td>22.134025</td>\n",
       "      <td>236.732375</td>\n",
       "      <td>-6.496668</td>\n",
       "    </tr>\n",
       "    <tr>\n",
       "      <th>2021-03-23 17:00:00+03:00</th>\n",
       "      <td>75.405154</td>\n",
       "      <td>75.468109</td>\n",
       "      <td>14.594846</td>\n",
       "      <td>14.531891</td>\n",
       "      <td>250.370911</td>\n",
       "      <td>-6.484110</td>\n",
       "    </tr>\n",
       "    <tr>\n",
       "      <th>2021-03-23 18:00:00+03:00</th>\n",
       "      <td>83.597007</td>\n",
       "      <td>83.731559</td>\n",
       "      <td>6.402993</td>\n",
       "      <td>6.268441</td>\n",
       "      <td>263.111160</td>\n",
       "      <td>-6.471550</td>\n",
       "    </tr>\n",
       "    <tr>\n",
       "      <th>2021-03-23 19:00:00+03:00</th>\n",
       "      <td>92.220320</td>\n",
       "      <td>92.220320</td>\n",
       "      <td>-2.220320</td>\n",
       "      <td>-2.220320</td>\n",
       "      <td>275.496503</td>\n",
       "      <td>-6.458988</td>\n",
       "    </tr>\n",
       "    <tr>\n",
       "      <th>2021-03-23 20:00:00+03:00</th>\n",
       "      <td>100.530956</td>\n",
       "      <td>100.530956</td>\n",
       "      <td>-10.530956</td>\n",
       "      <td>-10.530956</td>\n",
       "      <td>288.072359</td>\n",
       "      <td>-6.446423</td>\n",
       "    </tr>\n",
       "    <tr>\n",
       "      <th>2021-03-23 21:00:00+03:00</th>\n",
       "      <td>108.243254</td>\n",
       "      <td>108.243254</td>\n",
       "      <td>-18.243254</td>\n",
       "      <td>-18.243254</td>\n",
       "      <td>301.367091</td>\n",
       "      <td>-6.433857</td>\n",
       "    </tr>\n",
       "    <tr>\n",
       "      <th>2021-03-23 22:00:00+03:00</th>\n",
       "      <td>114.878806</td>\n",
       "      <td>114.878806</td>\n",
       "      <td>-24.878806</td>\n",
       "      <td>-24.878806</td>\n",
       "      <td>315.847485</td>\n",
       "      <td>-6.421288</td>\n",
       "    </tr>\n",
       "    <tr>\n",
       "      <th>2021-03-23 23:00:00+03:00</th>\n",
       "      <td>119.891388</td>\n",
       "      <td>119.891388</td>\n",
       "      <td>-29.891388</td>\n",
       "      <td>-29.891388</td>\n",
       "      <td>331.788037</td>\n",
       "      <td>-6.408718</td>\n",
       "    </tr>\n",
       "  </tbody>\n",
       "</table>\n",
       "</div>"
      ],
      "text/plain": [
       "                           apparent_zenith      zenith  apparent_elevation  \\\n",
       "2021-03-23 00:00:00+03:00       123.115824  123.115824          -33.115824   \n",
       "2021-03-23 01:00:00+03:00       123.413849  123.413849          -33.413849   \n",
       "2021-03-23 02:00:00+03:00       121.099043  121.099043          -31.099043   \n",
       "2021-03-23 03:00:00+03:00       116.497320  116.497320          -26.497320   \n",
       "2021-03-23 04:00:00+03:00       110.143592  110.143592          -20.143592   \n",
       "2021-03-23 05:00:00+03:00       102.597231  102.597231          -12.597231   \n",
       "2021-03-23 06:00:00+03:00        94.353778   94.353778           -4.353778   \n",
       "2021-03-23 07:00:00+03:00        85.659161   85.842808            4.340839   \n",
       "2021-03-23 08:00:00+03:00        77.392962   77.465632           12.607038   \n",
       "2021-03-23 09:00:00+03:00        69.599831   69.644507           20.400169   \n",
       "2021-03-23 10:00:00+03:00        62.835148   62.867747           27.164852   \n",
       "2021-03-23 11:00:00+03:00        57.679055   57.705566           32.320945   \n",
       "2021-03-23 12:00:00+03:00        54.722462   54.746196           35.277538   \n",
       "2021-03-23 13:00:00+03:00        54.390655   54.414102           35.609345   \n",
       "2021-03-23 14:00:00+03:00        56.735266   56.760845           33.264734   \n",
       "2021-03-23 15:00:00+03:00        61.404241   61.434956           28.595759   \n",
       "2021-03-23 16:00:00+03:00        67.825114   67.865975           22.174886   \n",
       "2021-03-23 17:00:00+03:00        75.405154   75.468109           14.594846   \n",
       "2021-03-23 18:00:00+03:00        83.597007   83.731559            6.402993   \n",
       "2021-03-23 19:00:00+03:00        92.220320   92.220320           -2.220320   \n",
       "2021-03-23 20:00:00+03:00       100.530956  100.530956          -10.530956   \n",
       "2021-03-23 21:00:00+03:00       108.243254  108.243254          -18.243254   \n",
       "2021-03-23 22:00:00+03:00       114.878806  114.878806          -24.878806   \n",
       "2021-03-23 23:00:00+03:00       119.891388  119.891388          -29.891388   \n",
       "\n",
       "                           elevation     azimuth  equation_of_time  \n",
       "2021-03-23 00:00:00+03:00 -33.115824  348.907080         -6.697283  \n",
       "2021-03-23 01:00:00+03:00 -33.413849    6.866001         -6.684763  \n",
       "2021-03-23 02:00:00+03:00 -31.099043   24.413855         -6.672240  \n",
       "2021-03-23 03:00:00+03:00 -26.497320   40.727253         -6.659715  \n",
       "2021-03-23 04:00:00+03:00 -20.143592   55.542806         -6.647187  \n",
       "2021-03-23 05:00:00+03:00 -12.597231   69.069415         -6.634657  \n",
       "2021-03-23 06:00:00+03:00  -4.353778   81.752338         -6.622124  \n",
       "2021-03-23 07:00:00+03:00   4.157192   94.115934         -6.609589  \n",
       "2021-03-23 08:00:00+03:00  12.534368  106.704948         -6.597052  \n",
       "2021-03-23 09:00:00+03:00  20.355493  120.066613         -6.584512  \n",
       "2021-03-23 10:00:00+03:00  27.132253  134.706560         -6.571969  \n",
       "2021-03-23 11:00:00+03:00  32.294434  150.947285         -6.559425  \n",
       "2021-03-23 12:00:00+03:00  35.253804  168.665071         -6.546878  \n",
       "2021-03-23 13:00:00+03:00  35.585898  187.094417         -6.534329  \n",
       "2021-03-23 14:00:00+03:00  33.239155  205.079588         -6.521777  \n",
       "2021-03-23 15:00:00+03:00  28.565044  221.715985         -6.509224  \n",
       "2021-03-23 16:00:00+03:00  22.134025  236.732375         -6.496668  \n",
       "2021-03-23 17:00:00+03:00  14.531891  250.370911         -6.484110  \n",
       "2021-03-23 18:00:00+03:00   6.268441  263.111160         -6.471550  \n",
       "2021-03-23 19:00:00+03:00  -2.220320  275.496503         -6.458988  \n",
       "2021-03-23 20:00:00+03:00 -10.530956  288.072359         -6.446423  \n",
       "2021-03-23 21:00:00+03:00 -18.243254  301.367091         -6.433857  \n",
       "2021-03-23 22:00:00+03:00 -24.878806  315.847485         -6.421288  \n",
       "2021-03-23 23:00:00+03:00 -29.891388  331.788037         -6.408718  "
      ]
     },
     "execution_count": 7,
     "metadata": {},
     "output_type": "execute_result"
    }
   ],
   "source": [
    "# Расчёт положения Солнца для заданных моментов времени, георграфических координат\n",
    "SPA = pvlib.solarposition.spa_python(times_loc, A.latitude, A.longitude)\n",
    "SPA"
   ]
  },
  {
   "cell_type": "code",
   "execution_count": 8,
   "metadata": {},
   "outputs": [
    {
     "data": {
      "text/plain": [
       "Text(0.5, 1.0, 'Положение Солнца на небосводе')"
      ]
     },
     "execution_count": 8,
     "metadata": {},
     "output_type": "execute_result"
    },
    {
     "data": {
      "image/png": "[encoded data removed]",
      "text/plain": [
       "<Figure size 432x288 with 1 Axes>"
      ]
     },
     "metadata": {
      "needs_background": "light"
     },
     "output_type": "display_data"
    }
   ],
   "source": [
    "# Вывод графика изменения положения Солнца на небосводе во времени\n",
    "SPA['zenith'].plot(label='Зенитный угол')\n",
    "SPA['elevation'].plot(label='Высота Солнца')\n",
    "SPA['azimuth'].plot(label='Узимутальный угол')\n",
    "plt.grid()\n",
    "plt.legend()\n",
    "plt.ylabel('Положение Солнца, град.')\n",
    "plt.xlabel('Время')\n",
    "plt.title('Положение Солнца на небосводе')"
   ]
  },
  {
   "cell_type": "code",
   "execution_count": 9,
   "metadata": {},
   "outputs": [
    {
     "data": {
      "text/plain": [
       "2021-03-23 00:00:00+03:00    1373.248063\n",
       "2021-03-23 01:00:00+03:00    1373.248063\n",
       "2021-03-23 02:00:00+03:00    1373.248063\n",
       "2021-03-23 03:00:00+03:00    1373.248063\n",
       "2021-03-23 04:00:00+03:00    1373.248063\n",
       "2021-03-23 05:00:00+03:00    1373.248063\n",
       "2021-03-23 06:00:00+03:00    1373.248063\n",
       "2021-03-23 07:00:00+03:00    1373.248063\n",
       "2021-03-23 08:00:00+03:00    1373.248063\n",
       "2021-03-23 09:00:00+03:00    1373.248063\n",
       "2021-03-23 10:00:00+03:00    1373.248063\n",
       "2021-03-23 11:00:00+03:00    1373.248063\n",
       "2021-03-23 12:00:00+03:00    1373.248063\n",
       "2021-03-23 13:00:00+03:00    1373.248063\n",
       "2021-03-23 14:00:00+03:00    1373.248063\n",
       "2021-03-23 15:00:00+03:00    1373.248063\n",
       "2021-03-23 16:00:00+03:00    1373.248063\n",
       "2021-03-23 17:00:00+03:00    1373.248063\n",
       "2021-03-23 18:00:00+03:00    1373.248063\n",
       "2021-03-23 19:00:00+03:00    1373.248063\n",
       "2021-03-23 20:00:00+03:00    1373.248063\n",
       "2021-03-23 21:00:00+03:00    1373.248063\n",
       "2021-03-23 22:00:00+03:00    1373.248063\n",
       "2021-03-23 23:00:00+03:00    1373.248063\n",
       "dtype: float64"
      ]
     },
     "execution_count": 9,
     "metadata": {},
     "output_type": "execute_result"
    }
   ],
   "source": [
    "# Расчёт заатмосферной солнечной радиации за заданный период времени методом \"asce\"\n",
    "DNI_extra_asce = pvlib.irradiance.get_extra_radiation(times_loc, method='asce')\n",
    "DNI_extra_asce"
   ]
  },
  {
   "cell_type": "code",
   "execution_count": 10,
   "metadata": {},
   "outputs": [
    {
     "data": {
      "text/html": [
       "<div>\n",
       "<style scoped>\n",
       "    .dataframe tbody tr th:only-of-type {\n",
       "        vertical-align: middle;\n",
       "    }\n",
       "\n",
       "    .dataframe tbody tr th {\n",
       "        vertical-align: top;\n",
       "    }\n",
       "\n",
       "    .dataframe thead th {\n",
       "        text-align: right;\n",
       "    }\n",
       "</style>\n",
       "<table border=\"1\" class=\"dataframe\">\n",
       "  <thead>\n",
       "    <tr style=\"text-align: right;\">\n",
       "      <th></th>\n",
       "      <th>ghi</th>\n",
       "      <th>dni</th>\n",
       "      <th>dhi</th>\n",
       "    </tr>\n",
       "  </thead>\n",
       "  <tbody>\n",
       "    <tr>\n",
       "      <th>2021-03-23 00:00:00+03:00</th>\n",
       "      <td>0.000000</td>\n",
       "      <td>0.000000</td>\n",
       "      <td>0.000000</td>\n",
       "    </tr>\n",
       "    <tr>\n",
       "      <th>2021-03-23 01:00:00+03:00</th>\n",
       "      <td>0.000000</td>\n",
       "      <td>0.000000</td>\n",
       "      <td>0.000000</td>\n",
       "    </tr>\n",
       "    <tr>\n",
       "      <th>2021-03-23 02:00:00+03:00</th>\n",
       "      <td>0.000000</td>\n",
       "      <td>0.000000</td>\n",
       "      <td>0.000000</td>\n",
       "    </tr>\n",
       "    <tr>\n",
       "      <th>2021-03-23 03:00:00+03:00</th>\n",
       "      <td>0.000000</td>\n",
       "      <td>0.000000</td>\n",
       "      <td>0.000000</td>\n",
       "    </tr>\n",
       "    <tr>\n",
       "      <th>2021-03-23 04:00:00+03:00</th>\n",
       "      <td>0.000000</td>\n",
       "      <td>0.000000</td>\n",
       "      <td>0.000000</td>\n",
       "    </tr>\n",
       "    <tr>\n",
       "      <th>2021-03-23 05:00:00+03:00</th>\n",
       "      <td>0.000000</td>\n",
       "      <td>0.000000</td>\n",
       "      <td>0.000000</td>\n",
       "    </tr>\n",
       "    <tr>\n",
       "      <th>2021-03-23 06:00:00+03:00</th>\n",
       "      <td>0.000000</td>\n",
       "      <td>0.000000</td>\n",
       "      <td>0.000000</td>\n",
       "    </tr>\n",
       "    <tr>\n",
       "      <th>2021-03-23 07:00:00+03:00</th>\n",
       "      <td>39.908474</td>\n",
       "      <td>253.181627</td>\n",
       "      <td>30.941847</td>\n",
       "    </tr>\n",
       "    <tr>\n",
       "      <th>2021-03-23 08:00:00+03:00</th>\n",
       "      <td>170.180205</td>\n",
       "      <td>541.941230</td>\n",
       "      <td>60.563669</td>\n",
       "    </tr>\n",
       "    <tr>\n",
       "      <th>2021-03-23 09:00:00+03:00</th>\n",
       "      <td>308.321030</td>\n",
       "      <td>680.548641</td>\n",
       "      <td>78.492640</td>\n",
       "    </tr>\n",
       "    <tr>\n",
       "      <th>2021-03-23 10:00:00+03:00</th>\n",
       "      <td>429.893330</td>\n",
       "      <td>758.955410</td>\n",
       "      <td>90.293841</td>\n",
       "    </tr>\n",
       "    <tr>\n",
       "      <th>2021-03-23 11:00:00+03:00</th>\n",
       "      <td>520.621093</td>\n",
       "      <td>803.739948</td>\n",
       "      <td>97.711094</td>\n",
       "    </tr>\n",
       "    <tr>\n",
       "      <th>2021-03-23 12:00:00+03:00</th>\n",
       "      <td>571.227819</td>\n",
       "      <td>825.244845</td>\n",
       "      <td>101.472413</td>\n",
       "    </tr>\n",
       "    <tr>\n",
       "      <th>2021-03-23 13:00:00+03:00</th>\n",
       "      <td>576.827766</td>\n",
       "      <td>827.497602</td>\n",
       "      <td>101.874430</td>\n",
       "    </tr>\n",
       "    <tr>\n",
       "      <th>2021-03-23 14:00:00+03:00</th>\n",
       "      <td>536.906951</td>\n",
       "      <td>810.896595</td>\n",
       "      <td>98.947728</td>\n",
       "    </tr>\n",
       "    <tr>\n",
       "      <th>2021-03-23 15:00:00+03:00</th>\n",
       "      <td>455.325979</td>\n",
       "      <td>772.444448</td>\n",
       "      <td>92.471683</td>\n",
       "    </tr>\n",
       "    <tr>\n",
       "      <th>2021-03-23 16:00:00+03:00</th>\n",
       "      <td>340.304100</td>\n",
       "      <td>703.861489</td>\n",
       "      <td>81.857884</td>\n",
       "    </tr>\n",
       "    <tr>\n",
       "      <th>2021-03-23 17:00:00+03:00</th>\n",
       "      <td>204.750963</td>\n",
       "      <td>584.511667</td>\n",
       "      <td>65.729410</td>\n",
       "    </tr>\n",
       "    <tr>\n",
       "      <th>2021-03-23 18:00:00+03:00</th>\n",
       "      <td>69.207190</td>\n",
       "      <td>350.757542</td>\n",
       "      <td>40.144475</td>\n",
       "    </tr>\n",
       "    <tr>\n",
       "      <th>2021-03-23 19:00:00+03:00</th>\n",
       "      <td>0.000000</td>\n",
       "      <td>0.000000</td>\n",
       "      <td>0.000000</td>\n",
       "    </tr>\n",
       "    <tr>\n",
       "      <th>2021-03-23 20:00:00+03:00</th>\n",
       "      <td>0.000000</td>\n",
       "      <td>0.000000</td>\n",
       "      <td>0.000000</td>\n",
       "    </tr>\n",
       "    <tr>\n",
       "      <th>2021-03-23 21:00:00+03:00</th>\n",
       "      <td>0.000000</td>\n",
       "      <td>0.000000</td>\n",
       "      <td>0.000000</td>\n",
       "    </tr>\n",
       "    <tr>\n",
       "      <th>2021-03-23 22:00:00+03:00</th>\n",
       "      <td>0.000000</td>\n",
       "      <td>0.000000</td>\n",
       "      <td>0.000000</td>\n",
       "    </tr>\n",
       "    <tr>\n",
       "      <th>2021-03-23 23:00:00+03:00</th>\n",
       "      <td>0.000000</td>\n",
       "      <td>0.000000</td>\n",
       "      <td>0.000000</td>\n",
       "    </tr>\n",
       "  </tbody>\n",
       "</table>\n",
       "</div>"
      ],
      "text/plain": [
       "                                  ghi         dni         dhi\n",
       "2021-03-23 00:00:00+03:00    0.000000    0.000000    0.000000\n",
       "2021-03-23 01:00:00+03:00    0.000000    0.000000    0.000000\n",
       "2021-03-23 02:00:00+03:00    0.000000    0.000000    0.000000\n",
       "2021-03-23 03:00:00+03:00    0.000000    0.000000    0.000000\n",
       "2021-03-23 04:00:00+03:00    0.000000    0.000000    0.000000\n",
       "2021-03-23 05:00:00+03:00    0.000000    0.000000    0.000000\n",
       "2021-03-23 06:00:00+03:00    0.000000    0.000000    0.000000\n",
       "2021-03-23 07:00:00+03:00   39.908474  253.181627   30.941847\n",
       "2021-03-23 08:00:00+03:00  170.180205  541.941230   60.563669\n",
       "2021-03-23 09:00:00+03:00  308.321030  680.548641   78.492640\n",
       "2021-03-23 10:00:00+03:00  429.893330  758.955410   90.293841\n",
       "2021-03-23 11:00:00+03:00  520.621093  803.739948   97.711094\n",
       "2021-03-23 12:00:00+03:00  571.227819  825.244845  101.472413\n",
       "2021-03-23 13:00:00+03:00  576.827766  827.497602  101.874430\n",
       "2021-03-23 14:00:00+03:00  536.906951  810.896595   98.947728\n",
       "2021-03-23 15:00:00+03:00  455.325979  772.444448   92.471683\n",
       "2021-03-23 16:00:00+03:00  340.304100  703.861489   81.857884\n",
       "2021-03-23 17:00:00+03:00  204.750963  584.511667   65.729410\n",
       "2021-03-23 18:00:00+03:00   69.207190  350.757542   40.144475\n",
       "2021-03-23 19:00:00+03:00    0.000000    0.000000    0.000000\n",
       "2021-03-23 20:00:00+03:00    0.000000    0.000000    0.000000\n",
       "2021-03-23 21:00:00+03:00    0.000000    0.000000    0.000000\n",
       "2021-03-23 22:00:00+03:00    0.000000    0.000000    0.000000\n",
       "2021-03-23 23:00:00+03:00    0.000000    0.000000    0.000000"
      ]
     },
     "execution_count": 10,
     "metadata": {},
     "output_type": "execute_result"
    }
   ],
   "source": [
    "# Определение видимой высоты Солнца над горизонтом\n",
    "apparent_elevation_asce = SPA['apparent_elevation']\n",
    "# Определение СР при ясном небе\n",
    "VerySimpleClearSky_asce = pvlib.clearsky.simplified_solis(apparent_elevation_asce, aod700=0.1, precipitable_water=1.0, pressure=101325.0, dni_extra=DNI_extra_asce)\n",
    "VerySimpleClearSky_asce"
   ]
  },
  {
   "cell_type": "code",
   "execution_count": 11,
   "metadata": {},
   "outputs": [
    {
     "data": {
      "text/plain": [
       "Text(0, 0.5, 'Иррадиация')"
      ]
     },
     "execution_count": 11,
     "metadata": {},
     "output_type": "execute_result"
    },
    {
     "data": {
      "image/png": "[encoded data removed]",
      "text/plain": [
       "<Figure size 432x288 with 1 Axes>"
      ]
     },
     "metadata": {
      "needs_background": "light"
     },
     "output_type": "display_data"
    }
   ],
   "source": [
    "VerySimpleClearSky_asce.plot()\n",
    "plt.legend()\n",
    "plt.ylabel('Иррадиация')"
   ]
  },
  {
   "cell_type": "code",
   "execution_count": 12,
   "metadata": {},
   "outputs": [
    {
     "data": {
      "text/html": [
       "<div>\n",
       "<style scoped>\n",
       "    .dataframe tbody tr th:only-of-type {\n",
       "        vertical-align: middle;\n",
       "    }\n",
       "\n",
       "    .dataframe tbody tr th {\n",
       "        vertical-align: top;\n",
       "    }\n",
       "\n",
       "    .dataframe thead th {\n",
       "        text-align: right;\n",
       "    }\n",
       "</style>\n",
       "<table border=\"1\" class=\"dataframe\">\n",
       "  <thead>\n",
       "    <tr style=\"text-align: right;\">\n",
       "      <th></th>\n",
       "      <th>ghi</th>\n",
       "      <th>dni</th>\n",
       "      <th>dhi</th>\n",
       "    </tr>\n",
       "  </thead>\n",
       "  <tbody>\n",
       "    <tr>\n",
       "      <th>2021-03-23 00:00:00+03:00</th>\n",
       "      <td>0.000000</td>\n",
       "      <td>0.000000</td>\n",
       "      <td>0.000000</td>\n",
       "    </tr>\n",
       "    <tr>\n",
       "      <th>2021-03-23 01:00:00+03:00</th>\n",
       "      <td>0.000000</td>\n",
       "      <td>0.000000</td>\n",
       "      <td>0.000000</td>\n",
       "    </tr>\n",
       "    <tr>\n",
       "      <th>2021-03-23 02:00:00+03:00</th>\n",
       "      <td>0.000000</td>\n",
       "      <td>0.000000</td>\n",
       "      <td>0.000000</td>\n",
       "    </tr>\n",
       "    <tr>\n",
       "      <th>2021-03-23 03:00:00+03:00</th>\n",
       "      <td>0.000000</td>\n",
       "      <td>0.000000</td>\n",
       "      <td>0.000000</td>\n",
       "    </tr>\n",
       "    <tr>\n",
       "      <th>2021-03-23 04:00:00+03:00</th>\n",
       "      <td>0.000000</td>\n",
       "      <td>0.000000</td>\n",
       "      <td>0.000000</td>\n",
       "    </tr>\n",
       "    <tr>\n",
       "      <th>2021-03-23 05:00:00+03:00</th>\n",
       "      <td>0.000000</td>\n",
       "      <td>0.000000</td>\n",
       "      <td>0.000000</td>\n",
       "    </tr>\n",
       "    <tr>\n",
       "      <th>2021-03-23 06:00:00+03:00</th>\n",
       "      <td>0.000000</td>\n",
       "      <td>0.000000</td>\n",
       "      <td>0.000000</td>\n",
       "    </tr>\n",
       "    <tr>\n",
       "      <th>2021-03-23 07:00:00+03:00</th>\n",
       "      <td>21.789779</td>\n",
       "      <td>144.353415</td>\n",
       "      <td>10.863744</td>\n",
       "    </tr>\n",
       "    <tr>\n",
       "      <th>2021-03-23 08:00:00+03:00</th>\n",
       "      <td>161.858322</td>\n",
       "      <td>570.191513</td>\n",
       "      <td>37.406544</td>\n",
       "    </tr>\n",
       "    <tr>\n",
       "      <th>2021-03-23 09:00:00+03:00</th>\n",
       "      <td>309.006042</td>\n",
       "      <td>738.852788</td>\n",
       "      <td>51.460570</td>\n",
       "    </tr>\n",
       "    <tr>\n",
       "      <th>2021-03-23 10:00:00+03:00</th>\n",
       "      <td>434.182903</td>\n",
       "      <td>818.189315</td>\n",
       "      <td>60.636744</td>\n",
       "    </tr>\n",
       "    <tr>\n",
       "      <th>2021-03-23 11:00:00+03:00</th>\n",
       "      <td>525.559837</td>\n",
       "      <td>858.426590</td>\n",
       "      <td>66.592352</td>\n",
       "    </tr>\n",
       "    <tr>\n",
       "      <th>2021-03-23 12:00:00+03:00</th>\n",
       "      <td>575.904887</td>\n",
       "      <td>876.483081</td>\n",
       "      <td>69.702926</td>\n",
       "    </tr>\n",
       "    <tr>\n",
       "      <th>2021-03-23 13:00:00+03:00</th>\n",
       "      <td>581.451084</td>\n",
       "      <td>878.328102</td>\n",
       "      <td>70.039644</td>\n",
       "    </tr>\n",
       "    <tr>\n",
       "      <th>2021-03-23 14:00:00+03:00</th>\n",
       "      <td>541.806688</td>\n",
       "      <td>864.525325</td>\n",
       "      <td>67.607402</td>\n",
       "    </tr>\n",
       "    <tr>\n",
       "      <th>2021-03-23 15:00:00+03:00</th>\n",
       "      <td>459.954515</td>\n",
       "      <td>830.689037</td>\n",
       "      <td>62.364422</td>\n",
       "    </tr>\n",
       "    <tr>\n",
       "      <th>2021-03-23 16:00:00+03:00</th>\n",
       "      <td>342.284627</td>\n",
       "      <td>763.648276</td>\n",
       "      <td>54.057104</td>\n",
       "    </tr>\n",
       "    <tr>\n",
       "      <th>2021-03-23 17:00:00+03:00</th>\n",
       "      <td>199.235278</td>\n",
       "      <td>625.807391</td>\n",
       "      <td>41.542883</td>\n",
       "    </tr>\n",
       "    <tr>\n",
       "      <th>2021-03-23 18:00:00+03:00</th>\n",
       "      <td>51.753792</td>\n",
       "      <td>288.723734</td>\n",
       "      <td>19.555077</td>\n",
       "    </tr>\n",
       "    <tr>\n",
       "      <th>2021-03-23 19:00:00+03:00</th>\n",
       "      <td>0.000000</td>\n",
       "      <td>0.000000</td>\n",
       "      <td>0.000000</td>\n",
       "    </tr>\n",
       "    <tr>\n",
       "      <th>2021-03-23 20:00:00+03:00</th>\n",
       "      <td>0.000000</td>\n",
       "      <td>0.000000</td>\n",
       "      <td>0.000000</td>\n",
       "    </tr>\n",
       "    <tr>\n",
       "      <th>2021-03-23 21:00:00+03:00</th>\n",
       "      <td>0.000000</td>\n",
       "      <td>0.000000</td>\n",
       "      <td>0.000000</td>\n",
       "    </tr>\n",
       "    <tr>\n",
       "      <th>2021-03-23 22:00:00+03:00</th>\n",
       "      <td>0.000000</td>\n",
       "      <td>0.000000</td>\n",
       "      <td>0.000000</td>\n",
       "    </tr>\n",
       "    <tr>\n",
       "      <th>2021-03-23 23:00:00+03:00</th>\n",
       "      <td>0.000000</td>\n",
       "      <td>0.000000</td>\n",
       "      <td>0.000000</td>\n",
       "    </tr>\n",
       "  </tbody>\n",
       "</table>\n",
       "</div>"
      ],
      "text/plain": [
       "                                  ghi         dni        dhi\n",
       "2021-03-23 00:00:00+03:00    0.000000    0.000000   0.000000\n",
       "2021-03-23 01:00:00+03:00    0.000000    0.000000   0.000000\n",
       "2021-03-23 02:00:00+03:00    0.000000    0.000000   0.000000\n",
       "2021-03-23 03:00:00+03:00    0.000000    0.000000   0.000000\n",
       "2021-03-23 04:00:00+03:00    0.000000    0.000000   0.000000\n",
       "2021-03-23 05:00:00+03:00    0.000000    0.000000   0.000000\n",
       "2021-03-23 06:00:00+03:00    0.000000    0.000000   0.000000\n",
       "2021-03-23 07:00:00+03:00   21.789779  144.353415  10.863744\n",
       "2021-03-23 08:00:00+03:00  161.858322  570.191513  37.406544\n",
       "2021-03-23 09:00:00+03:00  309.006042  738.852788  51.460570\n",
       "2021-03-23 10:00:00+03:00  434.182903  818.189315  60.636744\n",
       "2021-03-23 11:00:00+03:00  525.559837  858.426590  66.592352\n",
       "2021-03-23 12:00:00+03:00  575.904887  876.483081  69.702926\n",
       "2021-03-23 13:00:00+03:00  581.451084  878.328102  70.039644\n",
       "2021-03-23 14:00:00+03:00  541.806688  864.525325  67.607402\n",
       "2021-03-23 15:00:00+03:00  459.954515  830.689037  62.364422\n",
       "2021-03-23 16:00:00+03:00  342.284627  763.648276  54.057104\n",
       "2021-03-23 17:00:00+03:00  199.235278  625.807391  41.542883\n",
       "2021-03-23 18:00:00+03:00   51.753792  288.723734  19.555077\n",
       "2021-03-23 19:00:00+03:00    0.000000    0.000000   0.000000\n",
       "2021-03-23 20:00:00+03:00    0.000000    0.000000   0.000000\n",
       "2021-03-23 21:00:00+03:00    0.000000    0.000000   0.000000\n",
       "2021-03-23 22:00:00+03:00    0.000000    0.000000   0.000000\n",
       "2021-03-23 23:00:00+03:00    0.000000    0.000000   0.000000"
      ]
     },
     "execution_count": 12,
     "metadata": {},
     "output_type": "execute_result"
    }
   ],
   "source": [
    "# Определение видимого зенитного угла Солнца\n",
    "apparent_zenith_asce = SPA['apparent_zenith']\n",
    "\n",
    "# Определение зентиного угла Солнца\n",
    "zenith_asce = SPA['zenith']\n",
    "# Определение относительной атмосферной массы\n",
    "# https://pvlib-python.readthedocs.io/en/stable/generated/pvlib.atmosphere.get_relative_airmass.html\n",
    "airmass_relative_asce = pvlib.atmosphere.get_relative_airmass(zenith_asce, model='simple')\n",
    "# Определение абсолютной атмосферной массы\n",
    "# https://pvlib-python.readthedocs.io/en/stable/generated/pvlib.atmosphere.get_absolute_airmass.html\n",
    "airmass_absolute_asce = pvlib.atmosphere.get_absolute_airmass(airmass_relative_asce, pressure=101325.0)\n",
    "\n",
    "# Определение Linke Turbidity\n",
    "# https://pvlib-python.readthedocs.io/en/stable/generated/pvlib.clearsky.lookup_linke_turbidity.html\n",
    "linke_turbidity_asce = pvlib.clearsky.lookup_linke_turbidity(times_loc, A.latitude, A.longitude, filepath=None, interp_turbidity=True)\n",
    "\n",
    "SimpleClearSky_asce = pvlib.clearsky.ineichen(apparent_zenith_asce, airmass_absolute_asce, linke_turbidity_asce, altitude=0, dni_extra=DNI_extra_asce, perez_enhancement=False)\n",
    "SimpleClearSky_asce"
   ]
  },
  {
   "cell_type": "code",
   "execution_count": 13,
   "metadata": {},
   "outputs": [
    {
     "data": {
      "text/plain": [
       "Text(0, 0.5, 'Иррадиация')"
      ]
     },
     "execution_count": 13,
     "metadata": {},
     "output_type": "execute_result"
    },
    {
     "data": {
      "image/png": "[encoded data removed]",
      "text/plain": [
       "<Figure size 432x288 with 1 Axes>"
      ]
     },
     "metadata": {
      "needs_background": "light"
     },
     "output_type": "display_data"
    }
   ],
   "source": [
    "SimpleClearSky_asce.plot()\n",
    "plt.legend()\n",
    "plt.ylabel('Иррадиация')"
   ]
  },
  {
   "cell_type": "code",
   "execution_count": 14,
   "metadata": {},
   "outputs": [
    {
     "data": {
      "text/plain": [
       "<matplotlib.legend.Legend at 0x1dbd6dcff40>"
      ]
     },
     "execution_count": 14,
     "metadata": {},
     "output_type": "execute_result"
    },
    {
     "data": {
      "image/png": "[encoded data removed]",
      "text/plain": [
       "<Figure size 432x288 with 1 Axes>"
      ]
     },
     "metadata": {
      "needs_background": "light"
     },
     "output_type": "display_data"
    }
   ],
   "source": [
    "SimpleClearSky_asce['ghi'].plot(label='Простая модель')\n",
    "VerySimpleClearSky_asce['ghi'].plot(label='Простейшая модель')\n",
    "plt.legend()"
   ]
  },
  {
   "cell_type": "code",
   "execution_count": 15,
   "metadata": {},
   "outputs": [
    {
     "data": {
      "text/plain": [
       "<AxesSubplot:>"
      ]
     },
     "execution_count": 15,
     "metadata": {},
     "output_type": "execute_result"
    },
    {
     "data": {
      "image/png": "[encoded data removed]",
      "text/plain": [
       "<Figure size 432x288 with 1 Axes>"
      ]
     },
     "metadata": {
      "needs_background": "light"
     },
     "output_type": "display_data"
    }
   ],
   "source": [
    "asce_method = (SimpleClearSky_asce['ghi']-VerySimpleClearSky_asce['ghi']).plot(label='Разница')\n",
    "asce_method"
   ]
  },
  {
   "cell_type": "code",
   "execution_count": 16,
   "metadata": {},
   "outputs": [
    {
     "data": {
      "text/plain": [
       "2021-03-23 00:00:00+03:00    1375.479061\n",
       "2021-03-23 01:00:00+03:00    1375.447242\n",
       "2021-03-23 02:00:00+03:00    1375.415419\n",
       "2021-03-23 03:00:00+03:00    1375.383590\n",
       "2021-03-23 04:00:00+03:00    1375.351756\n",
       "2021-03-23 05:00:00+03:00    1375.319918\n",
       "2021-03-23 06:00:00+03:00    1375.288074\n",
       "2021-03-23 07:00:00+03:00    1375.256225\n",
       "2021-03-23 08:00:00+03:00    1375.224370\n",
       "2021-03-23 09:00:00+03:00    1375.192511\n",
       "2021-03-23 10:00:00+03:00    1375.160646\n",
       "2021-03-23 11:00:00+03:00    1375.128775\n",
       "2021-03-23 12:00:00+03:00    1375.096900\n",
       "2021-03-23 13:00:00+03:00    1375.065019\n",
       "2021-03-23 14:00:00+03:00    1375.033132\n",
       "2021-03-23 15:00:00+03:00    1375.001240\n",
       "2021-03-23 16:00:00+03:00    1374.969343\n",
       "2021-03-23 17:00:00+03:00    1374.937440\n",
       "2021-03-23 18:00:00+03:00    1374.905531\n",
       "2021-03-23 19:00:00+03:00    1374.873617\n",
       "2021-03-23 20:00:00+03:00    1374.841697\n",
       "2021-03-23 21:00:00+03:00    1374.809772\n",
       "2021-03-23 22:00:00+03:00    1374.777840\n",
       "2021-03-23 23:00:00+03:00    1374.745903\n",
       "dtype: float64"
      ]
     },
     "execution_count": 16,
     "metadata": {},
     "output_type": "execute_result"
    }
   ],
   "source": [
    "# Расчёт заатмосферной солнечной радиации за заданный период времени методом \"nrel\"\n",
    "DNI_extra_nrel = pvlib.irradiance.get_extra_radiation(times_loc, method='nrel')\n",
    "DNI_extra_nrel"
   ]
  },
  {
   "cell_type": "code",
   "execution_count": 17,
   "metadata": {},
   "outputs": [
    {
     "data": {
      "text/html": [
       "<div>\n",
       "<style scoped>\n",
       "    .dataframe tbody tr th:only-of-type {\n",
       "        vertical-align: middle;\n",
       "    }\n",
       "\n",
       "    .dataframe tbody tr th {\n",
       "        vertical-align: top;\n",
       "    }\n",
       "\n",
       "    .dataframe thead th {\n",
       "        text-align: right;\n",
       "    }\n",
       "</style>\n",
       "<table border=\"1\" class=\"dataframe\">\n",
       "  <thead>\n",
       "    <tr style=\"text-align: right;\">\n",
       "      <th></th>\n",
       "      <th>ghi</th>\n",
       "      <th>dni</th>\n",
       "      <th>dhi</th>\n",
       "    </tr>\n",
       "  </thead>\n",
       "  <tbody>\n",
       "    <tr>\n",
       "      <th>2021-03-23 00:00:00+03:00</th>\n",
       "      <td>0.000000</td>\n",
       "      <td>0.000000</td>\n",
       "      <td>0.000000</td>\n",
       "    </tr>\n",
       "    <tr>\n",
       "      <th>2021-03-23 01:00:00+03:00</th>\n",
       "      <td>0.000000</td>\n",
       "      <td>0.000000</td>\n",
       "      <td>0.000000</td>\n",
       "    </tr>\n",
       "    <tr>\n",
       "      <th>2021-03-23 02:00:00+03:00</th>\n",
       "      <td>0.000000</td>\n",
       "      <td>0.000000</td>\n",
       "      <td>0.000000</td>\n",
       "    </tr>\n",
       "    <tr>\n",
       "      <th>2021-03-23 03:00:00+03:00</th>\n",
       "      <td>0.000000</td>\n",
       "      <td>0.000000</td>\n",
       "      <td>0.000000</td>\n",
       "    </tr>\n",
       "    <tr>\n",
       "      <th>2021-03-23 04:00:00+03:00</th>\n",
       "      <td>0.000000</td>\n",
       "      <td>0.000000</td>\n",
       "      <td>0.000000</td>\n",
       "    </tr>\n",
       "    <tr>\n",
       "      <th>2021-03-23 05:00:00+03:00</th>\n",
       "      <td>0.000000</td>\n",
       "      <td>0.000000</td>\n",
       "      <td>0.000000</td>\n",
       "    </tr>\n",
       "    <tr>\n",
       "      <th>2021-03-23 06:00:00+03:00</th>\n",
       "      <td>0.000000</td>\n",
       "      <td>0.000000</td>\n",
       "      <td>0.000000</td>\n",
       "    </tr>\n",
       "    <tr>\n",
       "      <th>2021-03-23 07:00:00+03:00</th>\n",
       "      <td>39.966834</td>\n",
       "      <td>253.551866</td>\n",
       "      <td>30.987095</td>\n",
       "    </tr>\n",
       "    <tr>\n",
       "      <th>2021-03-23 08:00:00+03:00</th>\n",
       "      <td>170.425120</td>\n",
       "      <td>542.721163</td>\n",
       "      <td>60.650829</td>\n",
       "    </tr>\n",
       "    <tr>\n",
       "      <th>2021-03-23 09:00:00+03:00</th>\n",
       "      <td>308.757596</td>\n",
       "      <td>681.512262</td>\n",
       "      <td>78.603781</td>\n",
       "    </tr>\n",
       "    <tr>\n",
       "      <th>2021-03-23 10:00:00+03:00</th>\n",
       "      <td>430.492061</td>\n",
       "      <td>760.012440</td>\n",
       "      <td>90.419597</td>\n",
       "    </tr>\n",
       "    <tr>\n",
       "      <th>2021-03-23 11:00:00+03:00</th>\n",
       "      <td>521.334102</td>\n",
       "      <td>804.840699</td>\n",
       "      <td>97.844913</td>\n",
       "    </tr>\n",
       "    <tr>\n",
       "      <th>2021-03-23 12:00:00+03:00</th>\n",
       "      <td>571.996877</td>\n",
       "      <td>826.355892</td>\n",
       "      <td>101.609028</td>\n",
       "    </tr>\n",
       "    <tr>\n",
       "      <th>2021-03-23 13:00:00+03:00</th>\n",
       "      <td>577.590972</td>\n",
       "      <td>828.592471</td>\n",
       "      <td>102.009221</td>\n",
       "    </tr>\n",
       "    <tr>\n",
       "      <th>2021-03-23 14:00:00+03:00</th>\n",
       "      <td>537.604870</td>\n",
       "      <td>811.950670</td>\n",
       "      <td>99.076349</td>\n",
       "    </tr>\n",
       "    <tr>\n",
       "      <th>2021-03-23 15:00:00+03:00</th>\n",
       "      <td>455.907277</td>\n",
       "      <td>773.430600</td>\n",
       "      <td>92.589739</td>\n",
       "    </tr>\n",
       "    <tr>\n",
       "      <th>2021-03-23 16:00:00+03:00</th>\n",
       "      <td>340.730649</td>\n",
       "      <td>704.743735</td>\n",
       "      <td>81.960487</td>\n",
       "    </tr>\n",
       "    <tr>\n",
       "      <th>2021-03-23 17:00:00+03:00</th>\n",
       "      <td>205.002849</td>\n",
       "      <td>585.230736</td>\n",
       "      <td>65.810271</td>\n",
       "    </tr>\n",
       "    <tr>\n",
       "      <th>2021-03-23 18:00:00+03:00</th>\n",
       "      <td>69.290721</td>\n",
       "      <td>351.180896</td>\n",
       "      <td>40.192928</td>\n",
       "    </tr>\n",
       "    <tr>\n",
       "      <th>2021-03-23 19:00:00+03:00</th>\n",
       "      <td>0.000000</td>\n",
       "      <td>0.000000</td>\n",
       "      <td>0.000000</td>\n",
       "    </tr>\n",
       "    <tr>\n",
       "      <th>2021-03-23 20:00:00+03:00</th>\n",
       "      <td>0.000000</td>\n",
       "      <td>0.000000</td>\n",
       "      <td>0.000000</td>\n",
       "    </tr>\n",
       "    <tr>\n",
       "      <th>2021-03-23 21:00:00+03:00</th>\n",
       "      <td>0.000000</td>\n",
       "      <td>0.000000</td>\n",
       "      <td>0.000000</td>\n",
       "    </tr>\n",
       "    <tr>\n",
       "      <th>2021-03-23 22:00:00+03:00</th>\n",
       "      <td>0.000000</td>\n",
       "      <td>0.000000</td>\n",
       "      <td>0.000000</td>\n",
       "    </tr>\n",
       "    <tr>\n",
       "      <th>2021-03-23 23:00:00+03:00</th>\n",
       "      <td>0.000000</td>\n",
       "      <td>0.000000</td>\n",
       "      <td>0.000000</td>\n",
       "    </tr>\n",
       "  </tbody>\n",
       "</table>\n",
       "</div>"
      ],
      "text/plain": [
       "                                  ghi         dni         dhi\n",
       "2021-03-23 00:00:00+03:00    0.000000    0.000000    0.000000\n",
       "2021-03-23 01:00:00+03:00    0.000000    0.000000    0.000000\n",
       "2021-03-23 02:00:00+03:00    0.000000    0.000000    0.000000\n",
       "2021-03-23 03:00:00+03:00    0.000000    0.000000    0.000000\n",
       "2021-03-23 04:00:00+03:00    0.000000    0.000000    0.000000\n",
       "2021-03-23 05:00:00+03:00    0.000000    0.000000    0.000000\n",
       "2021-03-23 06:00:00+03:00    0.000000    0.000000    0.000000\n",
       "2021-03-23 07:00:00+03:00   39.966834  253.551866   30.987095\n",
       "2021-03-23 08:00:00+03:00  170.425120  542.721163   60.650829\n",
       "2021-03-23 09:00:00+03:00  308.757596  681.512262   78.603781\n",
       "2021-03-23 10:00:00+03:00  430.492061  760.012440   90.419597\n",
       "2021-03-23 11:00:00+03:00  521.334102  804.840699   97.844913\n",
       "2021-03-23 12:00:00+03:00  571.996877  826.355892  101.609028\n",
       "2021-03-23 13:00:00+03:00  577.590972  828.592471  102.009221\n",
       "2021-03-23 14:00:00+03:00  537.604870  811.950670   99.076349\n",
       "2021-03-23 15:00:00+03:00  455.907277  773.430600   92.589739\n",
       "2021-03-23 16:00:00+03:00  340.730649  704.743735   81.960487\n",
       "2021-03-23 17:00:00+03:00  205.002849  585.230736   65.810271\n",
       "2021-03-23 18:00:00+03:00   69.290721  351.180896   40.192928\n",
       "2021-03-23 19:00:00+03:00    0.000000    0.000000    0.000000\n",
       "2021-03-23 20:00:00+03:00    0.000000    0.000000    0.000000\n",
       "2021-03-23 21:00:00+03:00    0.000000    0.000000    0.000000\n",
       "2021-03-23 22:00:00+03:00    0.000000    0.000000    0.000000\n",
       "2021-03-23 23:00:00+03:00    0.000000    0.000000    0.000000"
      ]
     },
     "execution_count": 17,
     "metadata": {},
     "output_type": "execute_result"
    }
   ],
   "source": [
    "# Определение видимой высоты Солнца над горизонтом\n",
    "apparent_elevation_nrel = SPA['apparent_elevation']\n",
    "# Определение СР при ясном небе\n",
    "VerySimpleClearSky_nrel = pvlib.clearsky.simplified_solis(apparent_elevation_nrel, aod700=0.1, precipitable_water=1.0, pressure=101325.0, dni_extra=DNI_extra_nrel)\n",
    "VerySimpleClearSky_nrel"
   ]
  },
  {
   "cell_type": "code",
   "execution_count": 18,
   "metadata": {},
   "outputs": [
    {
     "data": {
      "text/plain": [
       "Text(0, 0.5, 'Иррадиация')"
      ]
     },
     "execution_count": 18,
     "metadata": {},
     "output_type": "execute_result"
    },
    {
     "data": {
      "image/png": "[encoded data removed]",
      "text/plain": [
       "<Figure size 432x288 with 1 Axes>"
      ]
     },
     "metadata": {
      "needs_background": "light"
     },
     "output_type": "display_data"
    }
   ],
   "source": [
    "VerySimpleClearSky_nrel.plot()\n",
    "plt.legend()\n",
    "plt.ylabel('Иррадиация')"
   ]
  },
  {
   "cell_type": "code",
   "execution_count": 19,
   "metadata": {},
   "outputs": [
    {
     "data": {
      "text/html": [
       "<div>\n",
       "<style scoped>\n",
       "    .dataframe tbody tr th:only-of-type {\n",
       "        vertical-align: middle;\n",
       "    }\n",
       "\n",
       "    .dataframe tbody tr th {\n",
       "        vertical-align: top;\n",
       "    }\n",
       "\n",
       "    .dataframe thead th {\n",
       "        text-align: right;\n",
       "    }\n",
       "</style>\n",
       "<table border=\"1\" class=\"dataframe\">\n",
       "  <thead>\n",
       "    <tr style=\"text-align: right;\">\n",
       "      <th></th>\n",
       "      <th>ghi</th>\n",
       "      <th>dni</th>\n",
       "      <th>dhi</th>\n",
       "    </tr>\n",
       "  </thead>\n",
       "  <tbody>\n",
       "    <tr>\n",
       "      <th>2021-03-23 00:00:00+03:00</th>\n",
       "      <td>0.000000</td>\n",
       "      <td>0.000000</td>\n",
       "      <td>0.000000</td>\n",
       "    </tr>\n",
       "    <tr>\n",
       "      <th>2021-03-23 01:00:00+03:00</th>\n",
       "      <td>0.000000</td>\n",
       "      <td>0.000000</td>\n",
       "      <td>0.000000</td>\n",
       "    </tr>\n",
       "    <tr>\n",
       "      <th>2021-03-23 02:00:00+03:00</th>\n",
       "      <td>0.000000</td>\n",
       "      <td>0.000000</td>\n",
       "      <td>0.000000</td>\n",
       "    </tr>\n",
       "    <tr>\n",
       "      <th>2021-03-23 03:00:00+03:00</th>\n",
       "      <td>0.000000</td>\n",
       "      <td>0.000000</td>\n",
       "      <td>0.000000</td>\n",
       "    </tr>\n",
       "    <tr>\n",
       "      <th>2021-03-23 04:00:00+03:00</th>\n",
       "      <td>0.000000</td>\n",
       "      <td>0.000000</td>\n",
       "      <td>0.000000</td>\n",
       "    </tr>\n",
       "    <tr>\n",
       "      <th>2021-03-23 05:00:00+03:00</th>\n",
       "      <td>0.000000</td>\n",
       "      <td>0.000000</td>\n",
       "      <td>0.000000</td>\n",
       "    </tr>\n",
       "    <tr>\n",
       "      <th>2021-03-23 06:00:00+03:00</th>\n",
       "      <td>0.000000</td>\n",
       "      <td>0.000000</td>\n",
       "      <td>0.000000</td>\n",
       "    </tr>\n",
       "    <tr>\n",
       "      <th>2021-03-23 07:00:00+03:00</th>\n",
       "      <td>21.821643</td>\n",
       "      <td>144.564510</td>\n",
       "      <td>10.879630</td>\n",
       "    </tr>\n",
       "    <tr>\n",
       "      <th>2021-03-23 08:00:00+03:00</th>\n",
       "      <td>162.091260</td>\n",
       "      <td>571.012103</td>\n",
       "      <td>37.460378</td>\n",
       "    </tr>\n",
       "    <tr>\n",
       "      <th>2021-03-23 09:00:00+03:00</th>\n",
       "      <td>309.443579</td>\n",
       "      <td>739.898965</td>\n",
       "      <td>51.533435</td>\n",
       "    </tr>\n",
       "    <tr>\n",
       "      <th>2021-03-23 10:00:00+03:00</th>\n",
       "      <td>434.787608</td>\n",
       "      <td>819.328843</td>\n",
       "      <td>60.721195</td>\n",
       "    </tr>\n",
       "    <tr>\n",
       "      <th>2021-03-23 11:00:00+03:00</th>\n",
       "      <td>526.279610</td>\n",
       "      <td>859.602236</td>\n",
       "      <td>66.683553</td>\n",
       "    </tr>\n",
       "    <tr>\n",
       "      <th>2021-03-23 12:00:00+03:00</th>\n",
       "      <td>576.680241</td>\n",
       "      <td>877.663111</td>\n",
       "      <td>69.796769</td>\n",
       "    </tr>\n",
       "    <tr>\n",
       "      <th>2021-03-23 13:00:00+03:00</th>\n",
       "      <td>582.220407</td>\n",
       "      <td>879.490225</td>\n",
       "      <td>70.132314</td>\n",
       "    </tr>\n",
       "    <tr>\n",
       "      <th>2021-03-23 14:00:00+03:00</th>\n",
       "      <td>542.510976</td>\n",
       "      <td>865.649111</td>\n",
       "      <td>67.695285</td>\n",
       "    </tr>\n",
       "    <tr>\n",
       "      <th>2021-03-23 15:00:00+03:00</th>\n",
       "      <td>460.541723</td>\n",
       "      <td>831.749548</td>\n",
       "      <td>62.444041</td>\n",
       "    </tr>\n",
       "    <tr>\n",
       "      <th>2021-03-23 16:00:00+03:00</th>\n",
       "      <td>342.713659</td>\n",
       "      <td>764.605461</td>\n",
       "      <td>54.124861</td>\n",
       "    </tr>\n",
       "    <tr>\n",
       "      <th>2021-03-23 17:00:00+03:00</th>\n",
       "      <td>199.480378</td>\n",
       "      <td>626.577263</td>\n",
       "      <td>41.593990</td>\n",
       "    </tr>\n",
       "    <tr>\n",
       "      <th>2021-03-23 18:00:00+03:00</th>\n",
       "      <td>51.816257</td>\n",
       "      <td>289.072214</td>\n",
       "      <td>19.578679</td>\n",
       "    </tr>\n",
       "    <tr>\n",
       "      <th>2021-03-23 19:00:00+03:00</th>\n",
       "      <td>0.000000</td>\n",
       "      <td>0.000000</td>\n",
       "      <td>0.000000</td>\n",
       "    </tr>\n",
       "    <tr>\n",
       "      <th>2021-03-23 20:00:00+03:00</th>\n",
       "      <td>0.000000</td>\n",
       "      <td>0.000000</td>\n",
       "      <td>0.000000</td>\n",
       "    </tr>\n",
       "    <tr>\n",
       "      <th>2021-03-23 21:00:00+03:00</th>\n",
       "      <td>0.000000</td>\n",
       "      <td>0.000000</td>\n",
       "      <td>0.000000</td>\n",
       "    </tr>\n",
       "    <tr>\n",
       "      <th>2021-03-23 22:00:00+03:00</th>\n",
       "      <td>0.000000</td>\n",
       "      <td>0.000000</td>\n",
       "      <td>0.000000</td>\n",
       "    </tr>\n",
       "    <tr>\n",
       "      <th>2021-03-23 23:00:00+03:00</th>\n",
       "      <td>0.000000</td>\n",
       "      <td>0.000000</td>\n",
       "      <td>0.000000</td>\n",
       "    </tr>\n",
       "  </tbody>\n",
       "</table>\n",
       "</div>"
      ],
      "text/plain": [
       "                                  ghi         dni        dhi\n",
       "2021-03-23 00:00:00+03:00    0.000000    0.000000   0.000000\n",
       "2021-03-23 01:00:00+03:00    0.000000    0.000000   0.000000\n",
       "2021-03-23 02:00:00+03:00    0.000000    0.000000   0.000000\n",
       "2021-03-23 03:00:00+03:00    0.000000    0.000000   0.000000\n",
       "2021-03-23 04:00:00+03:00    0.000000    0.000000   0.000000\n",
       "2021-03-23 05:00:00+03:00    0.000000    0.000000   0.000000\n",
       "2021-03-23 06:00:00+03:00    0.000000    0.000000   0.000000\n",
       "2021-03-23 07:00:00+03:00   21.821643  144.564510  10.879630\n",
       "2021-03-23 08:00:00+03:00  162.091260  571.012103  37.460378\n",
       "2021-03-23 09:00:00+03:00  309.443579  739.898965  51.533435\n",
       "2021-03-23 10:00:00+03:00  434.787608  819.328843  60.721195\n",
       "2021-03-23 11:00:00+03:00  526.279610  859.602236  66.683553\n",
       "2021-03-23 12:00:00+03:00  576.680241  877.663111  69.796769\n",
       "2021-03-23 13:00:00+03:00  582.220407  879.490225  70.132314\n",
       "2021-03-23 14:00:00+03:00  542.510976  865.649111  67.695285\n",
       "2021-03-23 15:00:00+03:00  460.541723  831.749548  62.444041\n",
       "2021-03-23 16:00:00+03:00  342.713659  764.605461  54.124861\n",
       "2021-03-23 17:00:00+03:00  199.480378  626.577263  41.593990\n",
       "2021-03-23 18:00:00+03:00   51.816257  289.072214  19.578679\n",
       "2021-03-23 19:00:00+03:00    0.000000    0.000000   0.000000\n",
       "2021-03-23 20:00:00+03:00    0.000000    0.000000   0.000000\n",
       "2021-03-23 21:00:00+03:00    0.000000    0.000000   0.000000\n",
       "2021-03-23 22:00:00+03:00    0.000000    0.000000   0.000000\n",
       "2021-03-23 23:00:00+03:00    0.000000    0.000000   0.000000"
      ]
     },
     "execution_count": 19,
     "metadata": {},
     "output_type": "execute_result"
    }
   ],
   "source": [
    "# Определение видимого зенитного угла Солнца\n",
    "apparent_zenith_nrel = SPA['apparent_zenith']\n",
    "\n",
    "# Определение зентиного угла Солнца\n",
    "zenith_nrel = SPA['zenith']\n",
    "# Определение относительной атмосферной массы\n",
    "# https://pvlib-python.readthedocs.io/en/stable/generated/pvlib.atmosphere.get_relative_airmass.html\n",
    "airmass_relative_nrel = pvlib.atmosphere.get_relative_airmass(zenith_nrel, model='simple')\n",
    "# Определение абсолютной атмосферной массы\n",
    "# https://pvlib-python.readthedocs.io/en/stable/generated/pvlib.atmosphere.get_absolute_airmass.html\n",
    "airmass_absolute_nrel = pvlib.atmosphere.get_absolute_airmass(airmass_relative_nrel, pressure=101325.0)\n",
    "\n",
    "# Определение Linke Turbidity\n",
    "# https://pvlib-python.readthedocs.io/en/stable/generated/pvlib.clearsky.lookup_linke_turbidity.html\n",
    "linke_turbidity_nrel = pvlib.clearsky.lookup_linke_turbidity(times_loc, A.latitude, A.longitude, filepath=None, interp_turbidity=True)\n",
    "\n",
    "SimpleClearSky_nrel = pvlib.clearsky.ineichen(apparent_zenith_nrel, airmass_absolute_nrel, linke_turbidity_nrel, altitude=0, dni_extra=DNI_extra_nrel, perez_enhancement=False)\n",
    "SimpleClearSky_nrel"
   ]
  },
  {
   "cell_type": "code",
   "execution_count": 20,
   "metadata": {},
   "outputs": [
    {
     "data": {
      "text/plain": [
       "Text(0, 0.5, 'Иррадиация')"
      ]
     },
     "execution_count": 20,
     "metadata": {},
     "output_type": "execute_result"
    },
    {
     "data": {
      "image/png": "[encoded data removed]",
      "text/plain": [
       "<Figure size 432x288 with 1 Axes>"
      ]
     },
     "metadata": {
      "needs_background": "light"
     },
     "output_type": "display_data"
    }
   ],
   "source": [
    "SimpleClearSky_nrel.plot()\n",
    "plt.legend()\n",
    "plt.ylabel('Иррадиация')"
   ]
  },
  {
   "cell_type": "code",
   "execution_count": 21,
   "metadata": {},
   "outputs": [
    {
     "data": {
      "text/plain": [
       "<matplotlib.legend.Legend at 0x1dbd6f1e520>"
      ]
     },
     "execution_count": 21,
     "metadata": {},
     "output_type": "execute_result"
    },
    {
     "data": {
      "image/png": "[encoded data removed]",
      "text/plain": [
       "<Figure size 432x288 with 1 Axes>"
      ]
     },
     "metadata": {
      "needs_background": "light"
     },
     "output_type": "display_data"
    }
   ],
   "source": [
    "SimpleClearSky_nrel['ghi'].plot(label='Простая модель')\n",
    "VerySimpleClearSky_nrel['ghi'].plot(label='Простейшая модель')\n",
    "plt.legend()"
   ]
  },
  {
   "cell_type": "code",
   "execution_count": 23,
   "metadata": {},
   "outputs": [
    {
     "data": {
      "text/plain": [
       "<AxesSubplot:>"
      ]
     },
     "execution_count": 23,
     "metadata": {},
     "output_type": "execute_result"
    },
    {
     "data": {
      "image/png": "[encoded data removed]",
      "text/plain": [
       "<Figure size 432x288 with 1 Axes>"
      ]
     },
     "metadata": {
      "needs_background": "light"
     },
     "output_type": "display_data"
    }
   ],
   "source": [
    "nrel_method = (SimpleClearSky_nrel['ghi']-VerySimpleClearSky_nrel['ghi']).plot(label='Разница')\n",
    "nrel_method"
   ]
  },
  {
   "cell_type": "code",
   "execution_count": 27,
   "metadata": {},
   "outputs": [
    {
     "data": {
      "text/plain": [
       "<matplotlib.legend.Legend at 0x1dbd719a370>"
      ]
     },
     "execution_count": 27,
     "metadata": {},
     "output_type": "execute_result"
    },
    {
     "data": {
      "image/png": "[encoded data removed]",
      "text/plain": [
       "<Figure size 432x288 with 1 Axes>"
      ]
     },
     "metadata": {
      "needs_background": "light"
     },
     "output_type": "display_data"
    }
   ],
   "source": [
    "SimpleClearSky_asce['ghi'].plot(label='Простая модель(asce)')\n",
    "VerySimpleClearSky_asce['ghi'].plot(label='Простейшая модель(asce)')\n",
    "SimpleClearSky_nrel['ghi'].plot(label='Простая модель(nrel)')\n",
    "VerySimpleClearSky_nrel['ghi'].plot(label='Простейшая модель(nrel)')\n",
    "plt.legend()"
   ]
  },
  {
   "cell_type": "code",
   "execution_count": 28,
   "metadata": {},
   "outputs": [
    {
     "data": {
      "text/plain": [
       "<matplotlib.legend.Legend at 0x1dbd720efd0>"
      ]
     },
     "execution_count": 28,
     "metadata": {},
     "output_type": "execute_result"
    },
    {
     "data": {
      "image/png": "[encoded data removed]",
      "text/plain": [
       "<Figure size 432x288 with 1 Axes>"
      ]
     },
     "metadata": {
      "needs_background": "light"
     },
     "output_type": "display_data"
    }
   ],
   "source": [
    "asce_method = (SimpleClearSky_asce['ghi']-VerySimpleClearSky_asce['ghi']).plot(label='Разница(asce)')\n",
    "nrel_method = (SimpleClearSky_nrel['ghi']-VerySimpleClearSky_nrel['ghi']).plot(label='Разница(nrel)')\n",
    "plt.legend()"
   ]
  },
  {
   "cell_type": "code",
   "execution_count": null,
   "metadata": {},
   "outputs": [],
   "source": []
  }
 ],
 "metadata": {
  "kernelspec": {
   "display_name": "Python 3",
   "language": "python",
   "name": "python3"
  },
  "language_info": {
   "codemirror_mode": {
    "name": "ipython",
    "version": 3
   },
   "file_extension": ".py",
   "mimetype": "text/x-python",
   "name": "python",
   "nbconvert_exporter": "python",
   "pygments_lexer": "ipython3",
   "version": "3.8.5"
  }
 },
 "nbformat": 4,
 "nbformat_minor": 4
}
